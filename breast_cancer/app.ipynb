{
 "cells": [
  {
   "cell_type": "code",
   "execution_count": null,
   "metadata": {
    "ExecuteTime": {
     "start_time": "2021-05-27T10:44:13.144Z"
    }
   },
   "outputs": [
    {
     "name": "stdout",
     "output_type": "stream",
     "text": [
      " * Serving Flask app \"__main__\" (lazy loading)\n",
      " * Environment: production\n",
      "\u001b[31m   WARNING: This is a development server. Do not use it in a production deployment.\u001b[0m\n",
      "\u001b[2m   Use a production WSGI server instead.\u001b[0m\n",
      " * Debug mode: off\n"
     ]
    },
    {
     "name": "stderr",
     "output_type": "stream",
     "text": [
      "C:\\Users\\User\\anaconda3\\envs\\statistics\\lib\\site-packages\\sklearn\\base.py:310: UserWarning: Trying to unpickle estimator LogisticRegression from version 0.23.2 when using version 0.24.2. This might lead to breaking code or invalid results. Use at your own risk.\n",
      "  warnings.warn(\n",
      "C:\\Users\\User\\anaconda3\\envs\\statistics\\lib\\site-packages\\sklearn\\base.py:310: UserWarning: Trying to unpickle estimator DecisionTreeClassifier from version 0.23.2 when using version 0.24.2. This might lead to breaking code or invalid results. Use at your own risk.\n",
      "  warnings.warn(\n",
      "C:\\Users\\User\\anaconda3\\envs\\statistics\\lib\\site-packages\\sklearn\\base.py:310: UserWarning: Trying to unpickle estimator SVC from version 0.23.2 when using version 0.24.2. This might lead to breaking code or invalid results. Use at your own risk.\n",
      "  warnings.warn(\n",
      "C:\\Users\\User\\anaconda3\\envs\\statistics\\lib\\site-packages\\sklearn\\base.py:310: UserWarning: Trying to unpickle estimator RandomForestClassifier from version 0.23.2 when using version 0.24.2. This might lead to breaking code or invalid results. Use at your own risk.\n",
      "  warnings.warn(\n",
      " * Running on http://127.0.0.1:5000/ (Press CTRL+C to quit)\n",
      "127.0.0.1 - - [27/May/2021 13:44:20] \"\u001b[37mGET / HTTP/1.1\u001b[0m\" 200 -\n",
      "127.0.0.1 - - [27/May/2021 13:44:53] \"\u001b[37mPOST /predict HTTP/1.1\u001b[0m\" 200 -\n",
      "127.0.0.1 - - [27/May/2021 13:45:02] \"\u001b[37mGET / HTTP/1.1\u001b[0m\" 200 -\n",
      "127.0.0.1 - - [27/May/2021 13:45:13] \"\u001b[37mPOST /predict HTTP/1.1\u001b[0m\" 200 -\n",
      "127.0.0.1 - - [27/May/2021 13:45:21] \"\u001b[37mGET / HTTP/1.1\u001b[0m\" 200 -\n"
     ]
    }
   ],
   "source": [
    "import sys\n",
    "import numpy as np\n",
    "import pandas as pd\n",
    "import pickle\n",
    "from flask import Flask, render_template,request\n",
    "from keras.models import load_model, model_from_json\n",
    "import keras\n",
    "from tensorflow.python.keras.layers import deserialize, serialize\n",
    "from tensorflow.python.keras.saving import saving_utils\n",
    "from tensorflow.python.framework import ops\n",
    "\n",
    "graph = ops.get_default_graph()\n",
    "\n",
    "def unpack(model, training_config, weights):\n",
    "    restored_model = deserialize(model)\n",
    "    if training_config is not None:\n",
    "        restored_model.compile(\n",
    "            **saving_utils.compile_args_from_training_config(\n",
    "                training_config\n",
    "            )\n",
    "        )\n",
    "    restored_model.set_weights(weights)\n",
    "    return restored_model\n",
    "\n",
    "\n",
    "app = Flask(__name__)\n",
    "\n",
    "logreg = pickle.load(open('models/logreg.pkl', 'rb'))\n",
    "dt_entropy = pickle.load(open('models/dt_gini.pkl', 'rb'))\n",
    "SVC_linear_kernel = pickle.load(open('models/SVC_linear_kernel.pkl', 'rb'))\n",
    "random_forest= pickle.load(open('models/random_forest.pkl', 'rb'))\n",
    "\n",
    "@app.route('/predict', methods=['POST'])\n",
    "def home():\n",
    "\n",
    "    var1=request.form[\"var1\"]\n",
    "\n",
    "    var2=request.form[\"var2\"]\n",
    "\n",
    "    var3=request.form[\"var3\"]\n",
    "\n",
    "    model=request.form[\"model\"]\n",
    "\n",
    "    X= np.array([[var1,var2,var3]])\n",
    "    X = pd.DataFrame(X, columns = ['Column_A','Column_B','Column_C'])\n",
    "\n",
    "    if(model == \"Logistic Regression\") :\n",
    "        clf = logreg \n",
    "    elif(model == \"Decision Tree\") :\n",
    "        clf = dt_entropy\n",
    "    elif(model == \"SVM\") :\n",
    "        clf = SVC_linear_kernel\n",
    "    elif(model == \"Random Forest\") :\n",
    "        clf = random_forest\n",
    "    elif(model == \"MLP\") :\n",
    "        \n",
    "            global graph\n",
    "            with graph.as_default():\n",
    "                MLP= pickle.load(open('models/MLP.pkl', 'rb'))\n",
    "                pred=(MLP.predict(X));\n",
    "        \n",
    "            pred = (pred > 0.5)\n",
    "            if(pred):\n",
    "                pred=1\n",
    "            else:\n",
    "                pred=0       \n",
    "    \n",
    "    \n",
    "    if(model != \"MLP\") :\n",
    "        pred = clf.predict(X)      \n",
    "        \n",
    "    if(pred==1):\n",
    "        output=\"malignant\"\n",
    "    else:\n",
    "        output=\"benign\"\n",
    "\n",
    "    return render_template('base.html', prediction_text='The tumor is {}.'.format(output))\n",
    "    \n",
    "@app.route('/', methods=['GET'])\n",
    "def reset():\n",
    "    return render_template('base.html')\n",
    "\n",
    "if __name__ == '__main__':\n",
    "   app.run()"
   ]
  },
  {
   "cell_type": "code",
   "execution_count": null,
   "metadata": {},
   "outputs": [],
   "source": []
  }
 ],
 "metadata": {
  "kernelspec": {
   "display_name": "Python 3",
   "language": "python",
   "name": "python3"
  },
  "language_info": {
   "codemirror_mode": {
    "name": "ipython",
    "version": 3
   },
   "file_extension": ".py",
   "mimetype": "text/x-python",
   "name": "python",
   "nbconvert_exporter": "python",
   "pygments_lexer": "ipython3",
   "version": "3.8.5"
  },
  "latex_envs": {
   "LaTeX_envs_menu_present": true,
   "autoclose": false,
   "autocomplete": true,
   "bibliofile": "biblio.bib",
   "cite_by": "apalike",
   "current_citInitial": 1,
   "eqLabelWithNumbers": true,
   "eqNumInitial": 1,
   "hotkeys": {
    "equation": "Ctrl-E",
    "itemize": "Ctrl-I"
   },
   "labels_anchors": false,
   "latex_user_defs": false,
   "report_style_numbering": false,
   "user_envs_cfg": false
  },
  "toc": {
   "base_numbering": 1,
   "nav_menu": {},
   "number_sections": true,
   "sideBar": true,
   "skip_h1_title": false,
   "title_cell": "Table of Contents",
   "title_sidebar": "Contents",
   "toc_cell": false,
   "toc_position": {},
   "toc_section_display": true,
   "toc_window_display": false
  },
  "varInspector": {
   "cols": {
    "lenName": 16,
    "lenType": 16,
    "lenVar": 40
   },
   "kernels_config": {
    "python": {
     "delete_cmd_postfix": "",
     "delete_cmd_prefix": "del ",
     "library": "var_list.py",
     "varRefreshCmd": "print(var_dic_list())"
    },
    "r": {
     "delete_cmd_postfix": ") ",
     "delete_cmd_prefix": "rm(",
     "library": "var_list.r",
     "varRefreshCmd": "cat(var_dic_list()) "
    }
   },
   "types_to_exclude": [
    "module",
    "function",
    "builtin_function_or_method",
    "instance",
    "_Feature"
   ],
   "window_display": false
  }
 },
 "nbformat": 4,
 "nbformat_minor": 2
}
